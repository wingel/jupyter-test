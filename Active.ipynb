{
 "cells": [
  {
   "cell_type": "code",
   "execution_count": 2,
   "metadata": {
    "collapsed": false
   },
   "outputs": [],
   "source": [
    "import matplotlib.pyplot as plt\n",
    "import numpy as np\n",
    "import math\n",
    "\n",
    "# %matplotlib inline\n",
    "%matplotlib notebook\n",
    "\n",
    "from networkanalyzer import NetworkAnalyzer\n",
    "na = NetworkAnalyzer.create_default()"
   ]
  },
  {
   "cell_type": "code",
   "execution_count": 3,
   "metadata": {
    "collapsed": false
   },
   "outputs": [
    {
     "name": "stdout",
     "output_type": "stream",
     "text": [
      "bg7tbl 200000000 2e+08 '\\x8ff020000000'\n",
      "bg7tbl 278990159 2.79e+08 '\\x8ff027899016'\n",
      "bg7tbl 389177544 3.89e+08 '\\x8ff038917754'\n",
      "bg7tbl 542883523 5.43e+08 '\\x8ff054288352'\n",
      "bg7tbl 757295802 7.57e+08 '\\x8ff075729580'\n",
      "bg7tbl 1056390380 1.06e+09 '\\x8ff105639038'\n",
      "bg7tbl 1473612599 1.47e+09 '\\x8ff147361260'\n",
      "bg7tbl 2055617066 2.06e+09 '\\x8ff205561707'\n",
      "bg7tbl 2867484658 2.87e+09 '\\x8ff286748466'\n",
      "bg7tbl 4000000000 4e+09 '\\x8ff400000000'\n"
     ]
    }
   ],
   "source": [
    "freqs = np.logspace(math.log10(200E6), math.log10(4E9), 10)\n",
    "mfreqs, mpowers = na.sweep(freqs)"
   ]
  },
  {
   "cell_type": "code",
   "execution_count": null,
   "metadata": {
    "collapsed": false
   },
   "outputs": [],
   "source": [
    "10 ** (10.0/20.0)"
   ]
  },
  {
   "cell_type": "code",
   "execution_count": null,
   "metadata": {
    "collapsed": true
   },
   "outputs": [],
   "source": []
  }
 ],
 "metadata": {
  "kernelspec": {
   "display_name": "Python 2",
   "language": "python",
   "name": "python2"
  },
  "language_info": {
   "codemirror_mode": {
    "name": "ipython",
    "version": 2
   },
   "file_extension": ".py",
   "mimetype": "text/x-python",
   "name": "python",
   "nbconvert_exporter": "python",
   "pygments_lexer": "ipython2",
   "version": "2.7.6"
  }
 },
 "nbformat": 4,
 "nbformat_minor": 0
}
